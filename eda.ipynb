{
 "cells": [
  {
   "cell_type": "code",
   "execution_count": 9,
   "metadata": {},
   "outputs": [
    {
     "name": "stdout",
     "output_type": "stream",
     "text": [
      "Sz of train dataset : 192556 |['4a5b2532e.jpg', '34b973fb0.jpg', '133b13bda.jpg', '5ecf4344b.jpg', '96f178a96.jpg', 'b5b6373bb.jpg', 'a78a82b25.jpg', 'c50310bc5.jpg', '531054a2b.jpg', '4235d2d8f.jpg', 'b0f4d07ed.jpg', '0deadf346.jpg', '2a9e2ac00.jpg', 'fa5c0c8b7.jpg', '6098e0ec7.jpg', '46d5ace64.jpg', '4790fd62c.jpg', 'cb9e718ee.jpg', '7ae2572ee.jpg', '6076a2546.jpg', 'c5ab26d22.jpg', '271956629.jpg', '5d8c071c4.jpg', '567261abb.jpg', 'a5ca05522.jpg', '448a95362.jpg', 'bad7a9587.jpg', 'a0c72d497.jpg', '75f2305a4.jpg', 'f56fa13de.jpg', '3cdc5adb9.jpg', '944c752de.jpg', '0af151ad2.jpg', '66a93d57b.jpg', '64c3335d0.jpg', '98f33d745.jpg', '3cf656feb.jpg', '938c8d3d3.jpg', '7ef0386e6.jpg', '7e86c4e26.jpg', '2880e817b.jpg', '84eed2fa0.jpg', 'ffd6a9ac7.jpg', '10dfa91c8.jpg', 'ca18c4ece.jpg', 'bc5a522cb.jpg', '6e7ebfd3f.jpg', '83aadba9d.jpg', '804f0977d.jpg', '65ffb677f.jpg', '877c2026b.jpg', '673e1b210.jpg', 'dcbd287ff.jpg', '9de779fbe.jpg', 'c9b34541b.jpg', 'b17ae157f.jpg', '1d7ff6175.jpg', 'cb8628108.jpg', 'b98ce76ce.jpg', 'dc1cec72f.jpg', 'a61e706af.jpg', 'ceb7951a9.jpg', '429512267.jpg', '1d9dc6990.jpg', '7f538c60d.jpg', '8ca516df6.jpg', 'ca6e1d84b.jpg', '9e24857fc.jpg', 'e8ebaaab2.jpg', 'ccdd83512.jpg', '262b0ccba.jpg', 'a8e0623f4.jpg', 'f20d9e56a.jpg', 'b8c41c25f.jpg', 'acfff8b63.jpg', '59deb6eaa.jpg', '015b2962a.jpg', '3cd4ff42c.jpg', '1f069dfda.jpg', '1dc5c91ad.jpg', 'e9413c97c.jpg', 'f4efa69fa.jpg', '971c0cf59.jpg', '7bc1d6cf7.jpg', '84c3fa11a.jpg', 'f0348ddfb.jpg', 'cd31b0c4c.jpg', '137b4c48b.jpg', 'a29ac571a.jpg', '16591e74b.jpg', 'feaa853ff.jpg', 'f140a5a3a.jpg', '07a8a5599.jpg', '8550fd4c4.jpg', '5f16c2e4c.jpg', '95436b8d7.jpg', '23cdbd75f.jpg', '6f0382a80.jpg', '5977cabb2.jpg', '961f180b0.jpg']\n",
      "Sz of test dataset : 15606 |['31d9a29e9.jpg', '086dcc480.jpg', 'fe3d912b7.jpg', 'd8a374b6f.jpg', '6721d2c13.jpg', '8820ee717.jpg', 'db5457434.jpg', '0bc5e3035.jpg', 'ce67869f0.jpg', '3e1a4dff2.jpg', 'cea1d9a97.jpg', '8e5b5af8e.jpg', '2d65f51d2.jpg', '594ba670b.jpg', 'd84833b1d.jpg', '3e6940ee7.jpg', 'f0387a0e9.jpg', '8d5a174af.jpg', 'f58c8239b.jpg', 'f9728a7ce.jpg', 'eb1a4b596.jpg', '1fadd1cee.jpg', 'bd42a879e.jpg', '358ef09d2.jpg', '585c220fe.jpg', '62d62182d.jpg', 'c8abe8842.jpg', '4c55fc081.jpg', '86824611a.jpg', '00d84b248.jpg', 'e67be2551.jpg', '271b1b5e2.jpg', '29ab5789f.jpg', '3748a54e7.jpg', '096a5dfc8.jpg', '37f67d591.jpg', 'a395dec59.jpg', '0d4ce5d32.jpg', '21690d162.jpg', '85ec64e64.jpg', '09dc444b6.jpg', '454f8c79c.jpg', 'a00886458.jpg', '19ac08cd6.jpg', '18027f0ff.jpg', '037685183.jpg', 'b6c1eb8c3.jpg', 'eec1f0550.jpg', '5dfbe8014.jpg', '38a58b2c8.jpg', 'bb7139975.jpg', '8987b89c7.jpg', '733c14fa2.jpg', '25e034f91.jpg', 'b8753e470.jpg', '37b42e82b.jpg', 'ef9383e8f.jpg', '0dacffb05.jpg', '04fe1f6a8.jpg', '9e8a3288e.jpg', '38fe27b31.jpg', '58162f0db.jpg', '71a007f29.jpg', '3c5bfd0dd.jpg', '2731c0b44.jpg', '7f8aeae74.jpg', 'a3bd54e49.jpg', 'cbfc92d55.jpg', '8794b30fb.jpg', '9ee681df0.jpg', '290a5d51a.jpg', 'b7c7be92a.jpg', 'f47341c55.jpg', '93fd800d1.jpg', '6617a00cb.jpg', '827c9a92b.jpg', '8dcfe6a95.jpg', 'cfeac91d1.jpg', '42b9e86f8.jpg', 'ed64b6d23.jpg', '88b40e3d2.jpg', '6e9eee1cb.jpg', '0d6dae247.jpg', '6b786e066.jpg', '8214ff777.jpg', '9ad82813d.jpg', 'dbcf48d1f.jpg', '8c30932a7.jpg', 'e30caa5c0.jpg', 'dfd852ef7.jpg', '3f93eba7d.jpg', '8e05a7fd5.jpg', 'ecc1fc0b8.jpg', 'f01167a4e.jpg', 'fd37ec99b.jpg', 'df67794d8.jpg', '56840b57b.jpg', '64be1af23.jpg', '69441ba51.jpg', '7283d0e09.jpg']\n"
     ]
    }
   ],
   "source": [
    "\n",
    "import pandas as pd\n",
    "import os\n",
    "\n",
    "LIMIT = int(1e2)\n",
    "\n",
    "BASE_DIR = 'airbus-ship-detection/'\n",
    "\n",
    "\n",
    "TRAIN_PATH = BASE_DIR + 'train_v2/'\n",
    "TEST_PATH = BASE_DIR + 'test_v2/'\n",
    "MASKS_PATH = BASE_DIR + 'train_ship_segmentations_v2.csv'\n",
    "\n",
    "train = os.listdir(TRAIN_PATH)\n",
    "test = os.listdir(TEST_PATH)\n",
    "\n",
    "print(f'Sz of train dataset : {len(train)} |{train[:LIMIT]}')\n",
    "print(f'Sz of test dataset : {len(test)} |{test[:LIMIT]}')"
   ]
  },
  {
   "cell_type": "code",
   "execution_count": 14,
   "metadata": {},
   "outputs": [
    {
     "name": "stdout",
     "output_type": "stream",
     "text": [
      "Photos with ships : 81723\n"
     ]
    }
   ],
   "source": [
    "masks = pd.read_csv(MASKS_PATH)\n",
    "\n",
    "ne = pd.notna(masks.EncodedPixels)\n",
    "print(f'Photos with ships : {ne.sum()}')\n"
   ]
  }
 ],
 "metadata": {
  "kernelspec": {
   "display_name": "Python 3",
   "language": "python",
   "name": "python3"
  },
  "language_info": {
   "codemirror_mode": {
    "name": "ipython",
    "version": 3
   },
   "file_extension": ".py",
   "mimetype": "text/x-python",
   "name": "python",
   "nbconvert_exporter": "python",
   "pygments_lexer": "ipython3",
   "version": "3.10.12"
  }
 },
 "nbformat": 4,
 "nbformat_minor": 2
}
